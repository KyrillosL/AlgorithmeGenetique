{
 "cells": [
  {
   "cell_type": "raw",
   "metadata": {},
   "source": [
    "5 Flips puis 3 Flips puis 1 flip -> Utiliser la roulette -> Mettre à jour à chaque fois la moyenne. Au départ la même probabilité. Calculer la meilleure amélioration à chaque tout. \n",
    "Pour l'instant on enlève le croisement\n",
    "\n",
    "Sous forme de tableau ecart type \n",
    "voir photo\n",
    "Faire des courbes lisses en faisant la moyenne des représentations\n",
    "\n",
    "Garder les mêmes graines aléatoires. \n",
    "\n",
    "bit flip chaque gene a 1/N chance de changer \n",
    "1 flip yen a qu'un qui change sur tout le chromosome\n",
    "\n"
   ]
  },
  {
   "cell_type": "code",
   "execution_count": 3,
   "metadata": {},
   "outputs": [],
   "source": [
    "#Various import \n",
    "import random\n",
    "from copy import copy\n",
    "import matplotlib.pyplot as plt\n",
    "plt.style.use('seaborn-whitegrid')\n",
    "import numpy as np\n"
   ]
  },
  {
   "cell_type": "code",
   "execution_count": 7,
   "metadata": {},
   "outputs": [],
   "source": [
    "class Agent:\n",
    "    \"\"\" An agent has data (a string containing a number of \"0\") and the length of the string. \n",
    "    For this problem, the score is the number of 1 in the string.\n",
    "    We can perform various mutations on the string \"\"\"\n",
    "    def __init__(self, data, id):\n",
    "        self.data = data\n",
    "        self.size = len(data)\n",
    "        self.id = id\n",
    "\n",
    "    def __str__(self):\n",
    "        return \"Agent \" + str(self.id) + \", \" + str(self.data) + \" | Score : \" + str(self.score()) +\"\\n\"\n",
    "\n",
    "    def __repr__(self):\n",
    "        return self.__str__()\n",
    "\n",
    "    def __gt__(self, other):\n",
    "        return (self.score() > other.score())\n",
    "\n",
    "    def score(self):\n",
    "        return 1 - ((self.size - self.data.count('1')) / self.size)\n",
    "\n",
    "    #Swith a bit in the string by an index. \n",
    "    def switch_bit(self, bit_to_flip):\n",
    "        self.data[bit_to_flip] = not self.data[bit_to_flip]\n",
    "\n",
    "    #Flip one random bit in the string\n",
    "    def mutation_bit_flip_1_n(self):\n",
    "        bit_to_flip = random.random.randrange(0, self.size)\n",
    "        switch_bit(bit_to_flip)\n",
    "        \n",
    "    def mutation_bit_flip_3_n(self):\n",
    "        bit_to_flip = random.random.randrange(0, self.size)\n",
    "        switch_bit(bit_to_flip)\n",
    "\n"
   ]
  },
  {
   "cell_type": "code",
   "execution_count": 5,
   "metadata": {},
   "outputs": [],
   "source": [
    "class Population:\n",
    "    def __init__(self, size):\n",
    "        self.size = size\n",
    "        self.agents = []\n",
    "        for x in range(size):\n",
    "            l = [random.randrange(0, 2) for y in range(size)]\n",
    "            self.agents.append(Agent(\"\".join(str(x) for x in l), x))\n",
    "        self.sort()\n",
    "\n",
    "    def sort(self):\n",
    "        self.agents.sort(reverse=True)\n",
    "\n",
    "    def __str__(self):\n",
    "        string_to_return = \"\"\n",
    "        for agent in  self.agents:\n",
    "            string_to_return += (agent.__str__())\n",
    "        return string_to_return\n",
    "\n",
    "    def __repr__(self):\n",
    "        return self.__str__()\n",
    "\n",
    "    def select_best_agents(self,number_of_agent_to_return):\n",
    "        return self.agents[:number_of_agent_to_return]\n",
    "\n",
    "    def select_random_agents(self,number_of_agent_to_return):\n",
    "        return \"@TODO\"\n",
    "\n",
    "    def select_tournament_agents(self,number_of_agent_to_return):\n",
    "        return \"@TODO\"\n",
    "\n",
    "    def croisement(self, agent1, agent2):\n",
    "        #@TODO : ADD ONE POINT TO SLICE\n",
    "        agent1Temporaire = copy(agent1)\n",
    "        agent2Temporaire = copy(agent2)\n",
    "\n",
    "        agent1.data = agent1.data[:int((agent1.size)/2)] #Cut the string at the half\n",
    "        agent1.data +=  (agent2.data[int((agent2.size)/2):]) #Append the end of the second one\n",
    "\n",
    "        agent2.data = agent2Temporaire.data[:int((agent2Temporaire.size)/2)]\n",
    "        agent2.data +=  (agent1Temporaire.data[int((agent1Temporaire.size)/2):])\n",
    "\n",
    "\n",
    "\n",
    "    def add(self,agents):\n",
    "        for agent in agents:\n",
    "            self.agents.insert(0,agent)"
   ]
  },
  {
   "cell_type": "code",
   "execution_count": 6,
   "metadata": {},
   "outputs": [
    {
     "name": "stdout",
     "output_type": "stream",
     "text": [
      "string to get: 11111111\n"
     ]
    },
    {
     "ename": "AttributeError",
     "evalue": "'str' object has no attribute 'length'",
     "output_type": "error",
     "traceback": [
      "\u001b[0;31m---------------------------------------------------------------------------\u001b[0m",
      "\u001b[0;31mAttributeError\u001b[0m                            Traceback (most recent call last)",
      "\u001b[0;32m<ipython-input-6-c84f0ecbe74e>\u001b[0m in \u001b[0;36m<module>\u001b[0;34m\u001b[0m\n\u001b[1;32m     13\u001b[0m \u001b[0mprint\u001b[0m\u001b[0;34m(\u001b[0m\u001b[0;34m\"string to get: \"\u001b[0m \u001b[0;34m+\u001b[0m \u001b[0mstring_to_get\u001b[0m\u001b[0;34m)\u001b[0m\u001b[0;34m\u001b[0m\u001b[0;34m\u001b[0m\u001b[0m\n\u001b[1;32m     14\u001b[0m \u001b[0;34m\u001b[0m\u001b[0m\n\u001b[0;32m---> 15\u001b[0;31m \u001b[0mpopulation\u001b[0m \u001b[0;34m=\u001b[0m \u001b[0mPopulation\u001b[0m\u001b[0;34m(\u001b[0m\u001b[0msize\u001b[0m\u001b[0;34m)\u001b[0m\u001b[0;34m\u001b[0m\u001b[0;34m\u001b[0m\u001b[0m\n\u001b[0m\u001b[1;32m     16\u001b[0m \u001b[0mprint\u001b[0m\u001b[0;34m(\u001b[0m\u001b[0;34m\"Population initiale\"\u001b[0m\u001b[0;34m)\u001b[0m\u001b[0;34m\u001b[0m\u001b[0;34m\u001b[0m\u001b[0m\n\u001b[1;32m     17\u001b[0m \u001b[0mprint\u001b[0m\u001b[0;34m(\u001b[0m\u001b[0mpopulation\u001b[0m\u001b[0;34m)\u001b[0m\u001b[0;34m\u001b[0m\u001b[0;34m\u001b[0m\u001b[0m\n",
      "\u001b[0;32m<ipython-input-5-3779d88423a0>\u001b[0m in \u001b[0;36m__init__\u001b[0;34m(self, size)\u001b[0m\n\u001b[1;32m      5\u001b[0m         \u001b[0;32mfor\u001b[0m \u001b[0mx\u001b[0m \u001b[0;32min\u001b[0m \u001b[0mrange\u001b[0m\u001b[0;34m(\u001b[0m\u001b[0msize\u001b[0m\u001b[0;34m)\u001b[0m\u001b[0;34m:\u001b[0m\u001b[0;34m\u001b[0m\u001b[0;34m\u001b[0m\u001b[0m\n\u001b[1;32m      6\u001b[0m             \u001b[0ml\u001b[0m \u001b[0;34m=\u001b[0m \u001b[0;34m[\u001b[0m\u001b[0mrandom\u001b[0m\u001b[0;34m.\u001b[0m\u001b[0mrandrange\u001b[0m\u001b[0;34m(\u001b[0m\u001b[0;36m0\u001b[0m\u001b[0;34m,\u001b[0m \u001b[0;36m2\u001b[0m\u001b[0;34m)\u001b[0m \u001b[0;32mfor\u001b[0m \u001b[0my\u001b[0m \u001b[0;32min\u001b[0m \u001b[0mrange\u001b[0m\u001b[0;34m(\u001b[0m\u001b[0msize\u001b[0m\u001b[0;34m)\u001b[0m\u001b[0;34m]\u001b[0m\u001b[0;34m\u001b[0m\u001b[0;34m\u001b[0m\u001b[0m\n\u001b[0;32m----> 7\u001b[0;31m             \u001b[0mself\u001b[0m\u001b[0;34m.\u001b[0m\u001b[0magents\u001b[0m\u001b[0;34m.\u001b[0m\u001b[0mappend\u001b[0m\u001b[0;34m(\u001b[0m\u001b[0mAgent\u001b[0m\u001b[0;34m(\u001b[0m\u001b[0;34m\"\"\u001b[0m\u001b[0;34m.\u001b[0m\u001b[0mjoin\u001b[0m\u001b[0;34m(\u001b[0m\u001b[0mstr\u001b[0m\u001b[0;34m(\u001b[0m\u001b[0mx\u001b[0m\u001b[0;34m)\u001b[0m \u001b[0;32mfor\u001b[0m \u001b[0mx\u001b[0m \u001b[0;32min\u001b[0m \u001b[0ml\u001b[0m\u001b[0;34m)\u001b[0m\u001b[0;34m,\u001b[0m \u001b[0mx\u001b[0m\u001b[0;34m)\u001b[0m\u001b[0;34m)\u001b[0m\u001b[0;34m\u001b[0m\u001b[0;34m\u001b[0m\u001b[0m\n\u001b[0m\u001b[1;32m      8\u001b[0m         \u001b[0mself\u001b[0m\u001b[0;34m.\u001b[0m\u001b[0msort\u001b[0m\u001b[0;34m(\u001b[0m\u001b[0;34m)\u001b[0m\u001b[0;34m\u001b[0m\u001b[0;34m\u001b[0m\u001b[0m\n\u001b[1;32m      9\u001b[0m \u001b[0;34m\u001b[0m\u001b[0m\n",
      "\u001b[0;32m<ipython-input-4-a6b0f8d4ede8>\u001b[0m in \u001b[0;36m__init__\u001b[0;34m(self, data, id)\u001b[0m\n\u001b[1;32m      3\u001b[0m     \u001b[0;32mdef\u001b[0m \u001b[0m__init__\u001b[0m\u001b[0;34m(\u001b[0m\u001b[0mself\u001b[0m\u001b[0;34m,\u001b[0m \u001b[0mdata\u001b[0m\u001b[0;34m,\u001b[0m \u001b[0mid\u001b[0m\u001b[0;34m)\u001b[0m\u001b[0;34m:\u001b[0m\u001b[0;34m\u001b[0m\u001b[0;34m\u001b[0m\u001b[0m\n\u001b[1;32m      4\u001b[0m         \u001b[0mself\u001b[0m\u001b[0;34m.\u001b[0m\u001b[0mdata\u001b[0m \u001b[0;34m=\u001b[0m \u001b[0mdata\u001b[0m\u001b[0;34m\u001b[0m\u001b[0;34m\u001b[0m\u001b[0m\n\u001b[0;32m----> 5\u001b[0;31m         \u001b[0mself\u001b[0m\u001b[0;34m.\u001b[0m\u001b[0msize\u001b[0m \u001b[0;34m=\u001b[0m \u001b[0mdata\u001b[0m\u001b[0;34m.\u001b[0m\u001b[0mlength\u001b[0m\u001b[0;34m\u001b[0m\u001b[0;34m\u001b[0m\u001b[0m\n\u001b[0m\u001b[1;32m      6\u001b[0m         \u001b[0mself\u001b[0m\u001b[0;34m.\u001b[0m\u001b[0mid\u001b[0m \u001b[0;34m=\u001b[0m \u001b[0mid\u001b[0m\u001b[0;34m\u001b[0m\u001b[0;34m\u001b[0m\u001b[0m\n\u001b[1;32m      7\u001b[0m \u001b[0;34m\u001b[0m\u001b[0m\n",
      "\u001b[0;31mAttributeError\u001b[0m: 'str' object has no attribute 'length'"
     ]
    }
   ],
   "source": [
    "def init_string_to_get(size):\n",
    "    return \"1\"*size\n",
    "\n",
    "def mutate(population, number_of_agent):\n",
    "    new_population  = Population(number_of_agent)\n",
    "    new_population.add(population.select_best_agents(number_of_agent))\n",
    "    return new_population\n",
    "\n",
    "size = 8\n",
    "number_of_agent_to_select=2\n",
    "\n",
    "string_to_get = init_string_to_get(size)\n",
    "print(\"string to get: \" + string_to_get)\n",
    "\n",
    "population = Population(size)\n",
    "print(\"Population initiale\")\n",
    "print(population)\n",
    "\n",
    "#print(population.select_best_agents(2))\n",
    "generation=0\n",
    "\n",
    "\n",
    "while population.select_best_agents(1)[0].score() != 1.0:\n",
    "    population.croisement(population.select_best_agents(2)[0], population.select_best_agents(2)[1])\n",
    "    if  population.select_best_agents(1)[0].score() <= 0.75 :\n",
    "        population = mutate(population, size-number_of_agent_to_select)\n",
    "    population.sort()\n",
    "    #print(\"Generation: \", str(generation))\n",
    "    #print(population.select_best_agents(1)[0])\n",
    "    plt.scatter(generation,population.select_best_agents(1)[0].score())\n",
    "    generation += 1\n",
    "    \n",
    "print(\"Generation: \", str(generation))\n",
    "print(population.select_best_agents(1)[0])\n",
    "\n",
    "plt.ylim([0,1])\n",
    "plt.ylabel('Score')\n",
    "plt.xlabel('Generation')\n",
    "plt.show()"
   ]
  },
  {
   "cell_type": "code",
   "execution_count": null,
   "metadata": {},
   "outputs": [],
   "source": []
  },
  {
   "cell_type": "code",
   "execution_count": null,
   "metadata": {},
   "outputs": [],
   "source": []
  }
 ],
 "metadata": {
  "kernelspec": {
   "display_name": "Python 3",
   "language": "python",
   "name": "python3"
  },
  "language_info": {
   "codemirror_mode": {
    "name": "ipython",
    "version": 3
   },
   "file_extension": ".py",
   "mimetype": "text/x-python",
   "name": "python",
   "nbconvert_exporter": "python",
   "pygments_lexer": "ipython3",
   "version": "3.7.3"
  }
 },
 "nbformat": 4,
 "nbformat_minor": 4
}
